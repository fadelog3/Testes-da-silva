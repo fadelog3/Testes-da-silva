{
  "cells": [
    {
      "cell_type": "markdown",
      "metadata": {
        "id": "vyj1xBF2NTY6"
      },
      "source": [
        "### 2.2.3 - Quantitativo (Q)\n",
        "\n",
        "Com dados *quantitativos* conseguimos medir diferenças numéricas dentre valores. Existem diversos subtipos de dados quantitativos:\n",
        "\n",
        "Para dados *intervalados* conseguimos medir a distância (intervalo) entre pontos: *qual a distância entre os valores A e B (A - B)*, apoiando afirmações como \"A está a 12 unidades de distância de B\".\n",
        "\n",
        "Para dados de *razão* o ponto zero tem significado e então podemos medir proporções ou fatores de escala: *o valor A é que fração do valor B? (A / B)*, apoiando afirmações como \"A é 10% de B\" ou \"B é 7 vezes maior que A\".\n",
        "\n",
        "No dataset acima, `ano` é um campo de intervalo quantitativo (o valor do ano \"zero\" é subjetivo), enquanto `fertilidade` e `expectativa_de_vida` são campos de razão quantitativa (zero é importante para o cálculo de proporções). Vega-Lite representa dados quantitativos, mas não faz distinção entre os tipos intervalo e razão.\n",
        "\n",
        "Valores quantitativos podem ser visualizados usando posição, tamanho, ou valor de cor, dentre outros canais. Um eixo com linha de base zero é essencial para comparações proporcionais de valores de razão, mas podem ser omitidos de forma segura para comparação de intervalos.\n",
        "\n",
        "### 2.2.4 - Temporal (T)\n",
        "\n",
        "Valores *temporais* medem pontos no tempo ou intervalos de tempo. Esse é um tipo especial de valores quantitativos (timestamps) com semântica e convenções ricas (i.e., o [Calendário gregoriano](https://en.wikipedia.org/wiki/Gregorian_calendar)). O tipo temporal no Vega-Lite suporta raciocínio sobre unidades de tempo (ano, mês, dia, hora, etc.), e fornece métodos para solicitar intervalos de tempo específicos.\n",
        "\n",
        "Exemplos de valores temporais incluem strings de datas como`“2019-04-01”` e `“Jan 04 2019”`, assim como datas padronizadas como o [Formato ISO dia-hora](https://en.wikipedia.org/wiki/ISO_8601): `“2019-01-04T17:50:35.643Z”`.\n",
        "\n",
        "Não existem valores temporais no nosso dataset de desenvolvimento global acima, já que o campo `ano` é codificado simplismente como um inteiro. Para mais detalhes sobre usar dados temporais em Altair, veja [Times and Dates documentation](https://altair-viz.github.io/user_guide/times_and_dates.html).\n",
        "\n",
        "### 2.2.5 - Sumário\n",
        "Esses tipos de dados não são mutuamente exclusivos, na verdade formam uma hierarquia: dados ordinais suportam comparações nominais (de igualdade), enquanto dados quantitativos suportam comparações ordinais (ordenadas).\n",
        "\n",
        "Ademais, esses tipos de dados _não_ fornecem uma categorização fixa. Só pelo fato de um campo de dados ser representado usando um número, não significa que temos que tratá-lo como um tipo quantitativo! Por exemplo, podemos interpretar um conjunto de idades (10 anos, 20 anos, etc) como nominal (menor de idade ou maior de idade), ordinal (agrupados por ano) ou quantitativo (para calcular a idade média).\n",
        "\n",
        "Agora vamos analisar como codificar visualmente esses tipos de dados!\n"
      ]
    }
  ],
  "metadata": {
    "kernelspec": {
      "display_name": "Python 3 (ipykernel)",
      "language": "python",
      "name": "python3"
    },
    "language_info": {
      "codemirror_mode": {
        "name": "ipython",
        "version": 3
      },
      "file_extension": ".py",
      "mimetype": "text/x-python",
      "name": "python",
      "nbconvert_exporter": "python",
      "pygments_lexer": "ipython3",
      "version": "3.11.1"
    },
    "colab": {
      "provenance": []
    }
  },
  "nbformat": 4,
  "nbformat_minor": 0
}