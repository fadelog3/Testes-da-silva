{
 "cells": [
  {
   "cell_type": "markdown",
   "metadata": {},
   "source": [
    "# 2. Data Types, Graphical Marks, and Visual Encoding Channels"
   ]
  },
  {
   "cell_type": "markdown",
   "metadata": {},
   "source": [
    "## 2.1. Global Development Data"
   ]
  },
  {
   "cell_type": "markdown",
   "metadata": {},
   "source": [
    "## 2.2. Data Types"
   ]
  },
  {
   "cell_type": "markdown",
   "metadata": {},
   "source": [
    "### 2.2.1. Nominal (N)"
   ]
  },
  {
   "cell_type": "markdown",
   "metadata": {},
   "source": [
    "### 2.2.2. Ordinal (O)"
   ]
  },
  {
   "cell_type": "markdown",
   "metadata": {},
   "source": [
    "### 2.2.3. Quantitative (Q)"
   ]
  },
  {
   "cell_type": "markdown",
   "metadata": {},
   "source": [
    "### 2.2.4. Temporal (T)"
   ]
  },
  {
   "cell_type": "markdown",
   "metadata": {},
   "source": [
    "### 2.2.5. Summary"
   ]
  },
  {
   "cell_type": "markdown",
   "metadata": {},
   "source": [
    "## 2.3. Encoding Channels"
   ]
  },
  {
   "cell_type": "markdown",
   "metadata": {},
   "source": [
    "### 2.3.1. X"
   ]
  },
  {
   "cell_type": "markdown",
   "metadata": {},
   "source": [
    "### 2.3.2. Y"
   ]
  },
  {
   "cell_type": "markdown",
   "metadata": {},
   "source": [
    "### 2.3.3. Size"
   ]
  },
  {
   "cell_type": "markdown",
   "metadata": {},
   "source": [
    "### 2.3.4. Color and Opacity"
   ]
  },
  {
   "cell_type": "markdown",
   "metadata": {},
   "source": [
    "### 2.3.5. Shape"
   ]
  },
  {
   "cell_type": "markdown",
   "metadata": {},
   "source": [
    "### 2.3.6. Tooltips & Ordering"
   ]
  },
  {
   "cell_type": "markdown",
   "metadata": {},
   "source": [
    "### 2.3.7. Column and Row Facets"
   ]
  },
  {
   "cell_type": "markdown",
   "metadata": {},
   "source": [
    "### 2.3.8. A Peek Ahead: Interactive Filtering"
   ]
  },
  {
   "cell_type": "markdown",
   "metadata": {},
   "source": [
    "## 2.4. Marcações Gráficas"
   ]
  },
  {
   "cell_type": "markdown",
   "metadata": {},
   "source": [
    "Nossa exploração dos canais de codificação acima utiliza exclusivamente a marcação de <span>`pontos`</span> para visualizar os dados. No entanto, o tipo de marcação de pontos é apenas uma das diversas formas geométricas que podem ser usadas para representar dados visualmente. O **Altair** inclui vários tipos de marcações embutidas, incluindo:\n",
    "\n",
    "- <span>`mark_area()`</span> – Áreas preenchidas definidas por uma linha superior e uma linha de base.\n",
    "- <span>`mark_bar()`</span> – Barras retangulares.\n",
    "- <span>`mark_circle()`</span> – Pontos dispersos no gráfico como círculos preenchidos.\n",
    "- <span>`mark_line()`</span> – Segmentos de linha conectados.\n",
    "- <span>`mark_point()`</span> – Pontos dispersos no gráfico como formas configuráveis.\n",
    "- <span>`mark_rect()`</span> – Retângulos preenchidos, úteis para mapas de calor.\n",
    "- <span>`mark_rule()`</span> – Linhas verticais ou horizontais se estendendo pelos eixos.\n",
    "- <span>`mark_square()`</span> – Pontos dispersos no gráfico como quadrados preenchidos.\n",
    "- <span>`mark_text()`</span> – Pontos dispersos no gráfico representados como texto.\n",
    "- <span>`mark_tick()`</span> – Marcações de traço horizontais ou verticais.\n",
    "\n",
    "Para ter acesso a uma lista completa, e links para exemplos, veja a [documentação do Altair sobre marcações](https://altair-viz.github.io/user_guide/marks.html). Em seguida, vamos conferir com mais detalhes algumas marcações mais frequentemente usadas para gráficos estatísticos."
   ]
  },
  {
   "cell_type": "markdown",
   "metadata": {},
   "source": [
    "### 2.4.1. Marcação de Pontos\n",
    "\n",
    "As marcações de <span>`pontos`</span> desenha pontos específicos no gráfico, como em gráficos dispersos ou gráficos pontuais. Em conjunto com os canais de codificação <span>`x`</span> e <span>`y`</span> (para especificar posições bidimensionais para os pontos), marcações de pontos podem usar as codificações cor (<span>`color`</span>), tamanho (<span>`size`</span>) e formato (<span>`shape`</span>) para representar campos de dados adicionais.\n",
    "\n",
    "Logo abaixo, temos um gráfico pontual de <span>`fertilidade`</span>, com a seção <span>`grupos`</span> codificando de uma maneira redundante usando tanto o canal <span>`y`</span> quanto <span>`shape`</span>."
   ]
  },
  {
   "cell_type": "code",
   "execution_count": null,
   "metadata": {},
   "outputs": [],
   "source": [
    "alt.Chart(data2000).mark_point().encode(\n",
    "    alt.X('fertility:Q'),\n",
    "    alt.Y('cluster:N'),\n",
    "    alt.Shape('cluster:N')\n",
    ")"
   ]
  },
  {
   "cell_type": "markdown",
   "metadata": {},
   "source": [
    "### 2.4.2. Marcação de Círculos\n",
    "\n",
    "O tipo de marcação de <span>`círculos`</span> é um atalho conveniente para configurar uma marcação de <span>`pontos`</span> definidos para serem representados como círculos preenchidos."
   ]
  },
  {
   "cell_type": "code",
   "execution_count": null,
   "metadata": {},
   "outputs": [],
   "source": [
    "alt.Chart(data2000).mark_circle(size=100).encode(\n",
    "    alt.X('fertility:Q'),\n",
    "    alt.Y('cluster:N'),\n",
    "    alt.Shape('cluster:N')\n",
    ")"
   ]
  },
  {
   "cell_type": "markdown",
   "metadata": {},
   "source": [
    "### 2.4.3. Square Marks"
   ]
  },
  {
   "cell_type": "markdown",
   "metadata": {},
   "source": [
    "### 2.4.4. Tick Marks"
   ]
  },
  {
   "cell_type": "markdown",
   "metadata": {},
   "source": [
    "### 2.4.5. Bar Marks"
   ]
  },
  {
   "cell_type": "markdown",
   "metadata": {},
   "source": [
    "### 2.4.6. Line Marks"
   ]
  },
  {
   "cell_type": "markdown",
   "metadata": {},
   "source": [
    "### 2.4.7. Area Marks"
   ]
  },
  {
   "cell_type": "markdown",
   "metadata": {},
   "source": [
    "## 2.5. Summary"
   ]
  }
 ],
 "metadata": {
  "kernelspec": {
   "display_name": "Python 3",
   "language": "python",
   "name": "python3"
  },
  "language_info": {
   "codemirror_mode": {
    "name": "ipython",
    "version": 3
   },
   "file_extension": ".py",
   "mimetype": "text/x-python",
   "name": "python",
   "nbconvert_exporter": "python",
   "pygments_lexer": "ipython3",
   "version": "3.12.3"
  }
 },
 "nbformat": 4,
 "nbformat_minor": 2
}
